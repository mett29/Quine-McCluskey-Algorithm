{
 "cells": [
  {
   "cell_type": "code",
   "execution_count": 1,
   "metadata": {
    "collapsed": true
   },
   "outputs": [],
   "source": [
    "import random\n",
    "import math"
   ]
  },
  {
   "cell_type": "code",
   "execution_count": 2,
   "metadata": {
    "collapsed": true
   },
   "outputs": [],
   "source": [
    "def matrix():\n",
    "    return [[0,0,0,0], [0,0,0,1], [0,0,1,0], [0,0,1,1], [0,1,0,0], [0,1,0,1], [0,1,1,0], [0,1,1,1], [1,0,0,0], [1,0,0,1], [1,0,1,0], [1,0,1,1], [1,1,0,0], [1,1,0,1], [1,1,1,0], [1,1,1,1]]\n",
    "\n",
    "def print_table(s):\n",
    "    for e in s:\n",
    "        print(e, end=\"\\n\")\n",
    "    \n",
    "def f():\n",
    "    values = {'0', '1', '-'}\n",
    "    return [random.choice(list(values)) for _ in range(16)]"
   ]
  },
  {
   "cell_type": "code",
   "execution_count": 3,
   "metadata": {},
   "outputs": [
    {
     "name": "stdout",
     "output_type": "stream",
     "text": [
      "[0, 0, 0, 0]\n",
      "[0, 0, 0, 1]\n",
      "[0, 0, 1, 0]\n",
      "[0, 0, 1, 1]\n",
      "[0, 1, 0, 0]\n",
      "[0, 1, 0, 1]\n",
      "[0, 1, 1, 0]\n",
      "[0, 1, 1, 1]\n",
      "[1, 0, 0, 0]\n",
      "[1, 0, 0, 1]\n",
      "[1, 0, 1, 0]\n",
      "[1, 0, 1, 1]\n",
      "[1, 1, 0, 0]\n",
      "[1, 1, 0, 1]\n",
      "[1, 1, 1, 0]\n",
      "[1, 1, 1, 1]\n"
     ]
    }
   ],
   "source": [
    "table = matrix()\n",
    "print_table(table)"
   ]
  },
  {
   "cell_type": "code",
   "execution_count": 4,
   "metadata": {},
   "outputs": [
    {
     "name": "stdout",
     "output_type": "stream",
     "text": [
      "['0', '0', '0', '0', '1', '0', '0', '0', '1', '-', '1', '1', '1', '0', '-', '1']\n"
     ]
    }
   ],
   "source": [
    "function = ['0', '0', '0', '0', '1', '0', '0', '0', '1', '-', '1', '1', '1', '0', '-', '1'] #f()\n",
    "print(function)"
   ]
  },
  {
   "cell_type": "markdown",
   "metadata": {},
   "source": [
    "<h2>PRIMA FASE</h2>"
   ]
  },
  {
   "cell_type": "markdown",
   "metadata": {},
   "source": [
    "Si riportano su una tabella tutti i mintermini con uscita \"1\" (comprendendo anche quelli con il don't care come uscita), ordinandoli in classi a seconda del numero di \"1\" presenti in ciascun mintermine"
   ]
  },
  {
   "cell_type": "code",
   "execution_count": 5,
   "metadata": {},
   "outputs": [
    {
     "name": "stdout",
     "output_type": "stream",
     "text": [
      "[0, 1, 0, 0]\n",
      "[1, 0, 0, 0]\n",
      "[1, 0, 0, 1]\n",
      "[1, 0, 1, 0]\n",
      "[1, 0, 1, 1]\n",
      "[1, 1, 0, 0]\n",
      "[1, 1, 1, 0]\n",
      "[1, 1, 1, 1]\n"
     ]
    }
   ],
   "source": [
    "minterms = []\n",
    "for i in range(0, len(function)):\n",
    "    if (function[i] != '0'):\n",
    "        minterms.append(table[i])\n",
    "        \n",
    "for e in minterms:\n",
    "    print(e, end=\"\\n\") "
   ]
  },
  {
   "cell_type": "code",
   "execution_count": 6,
   "metadata": {},
   "outputs": [
    {
     "name": "stdout",
     "output_type": "stream",
     "text": [
      "[0, 1, 0, 0]\n",
      "[1, 0, 0, 0]\n",
      "[1, 0, 0, 1]\n",
      "[1, 0, 1, 0]\n",
      "[1, 1, 0, 0]\n",
      "[1, 0, 1, 1]\n",
      "[1, 1, 1, 0]\n",
      "[1, 1, 1, 1]\n"
     ]
    }
   ],
   "source": [
    "# Ordino in base alla somma\n",
    "for i in range(len(minterms)-1):\n",
    "    for j in range(i):\n",
    "        if (sum(minterms[j]) > sum(minterms[j+1])):\n",
    "            temp = minterms[j]\n",
    "            minterms[j] = minterms[j+1]\n",
    "            minterms[j+1] = temp\n",
    "for e in minterms:\n",
    "    print(e, end=\"\\n\") "
   ]
  },
  {
   "cell_type": "code",
   "execution_count": 7,
   "metadata": {},
   "outputs": [
    {
     "name": "stdout",
     "output_type": "stream",
     "text": [
      "[[4], [8], [9], [10], [12], [11], [14], [15]]\n"
     ]
    }
   ],
   "source": [
    "values = []\n",
    "value = 0\n",
    "for i in range(len(minterms)):\n",
    "    value = 0\n",
    "    tmp = list(minterms[i])\n",
    "    for j in range(len(tmp)):\n",
    "        if (tmp[j] == 1):\n",
    "            value += math.pow(2, len(tmp)-1-j)\n",
    "    values.append([int(value)])\n",
    "print(values)"
   ]
  },
  {
   "cell_type": "code",
   "execution_count": 8,
   "metadata": {
    "collapsed": true
   },
   "outputs": [],
   "source": [
    "def check_diff(t1, t2, how):\n",
    "    soglia = 0\n",
    "    index = -1\n",
    "    \n",
    "    for i in range(len(t1)):\n",
    "        if (t1[i] != t2[i]):\n",
    "            soglia = soglia + 1\n",
    "            index = i\n",
    "    if (soglia > how):\n",
    "        return -1\n",
    "    return index"
   ]
  },
  {
   "cell_type": "code",
   "execution_count": 9,
   "metadata": {
    "collapsed": true
   },
   "outputs": [],
   "source": [
    "# Aggiungo i '-' ove presente la differenza\n",
    "def dontcare(t1, index):\n",
    "    new_t = list(t1)\n",
    "    new_t[index] = '-'\n",
    "    return new_t"
   ]
  },
  {
   "cell_type": "markdown",
   "metadata": {},
   "source": [
    "A questo punto si può iniziare a combinare i mintermini tra di loro. Se due mintermini, appartenenti a classi diverse, hanno una distanza di Hamming pari a 1 (ossia differiscono per una sola variabile), allora possono essere uniti, inserendo nella variabile non in comune un don't care. Una volta esauriti tutti gli implicanti del 4º ordine, si passa all'eventuale semplificazione di quelli del 3º ordine, dove in questo caso vanno uniti tra loro i mintermini con distanza di Hamming pari a 2."
   ]
  },
  {
   "cell_type": "code",
   "execution_count": 10,
   "metadata": {
    "collapsed": true
   },
   "outputs": [],
   "source": [
    "def main(minterms, not_reducible):\n",
    "    \n",
    "    result = []\n",
    "    reducible = 0\n",
    "    \n",
    "    l = len(minterms)\n",
    "    for i in range(l):\n",
    "        reducible = 0\n",
    "        for y in range(l): \n",
    "            output = check_diff(minterms[i], minterms[y], 1)\n",
    "            if (output != -1):\n",
    "                add_term = dontcare(minterms[i], output)\n",
    "                if (add_term not in result):\n",
    "                    result.append(add_term)\n",
    "            else: \n",
    "                reducible = reducible - 1\n",
    "                if (y == l-1 and reducible == -(y)-1):\n",
    "                    not_reducible.append(minterms[i])\n",
    "    \n",
    "    if (len(result) == -reducible):\n",
    "        return not_reducible\n",
    "    \n",
    "    return main(result, not_reducible)"
   ]
  },
  {
   "cell_type": "code",
   "execution_count": 11,
   "metadata": {},
   "outputs": [
    {
     "name": "stdout",
     "output_type": "stream",
     "text": [
      "[['-', 1, 0, 0], [1, 0, '-', '-'], [1, '-', '-', 0], [1, '-', 1, '-']]\n"
     ]
    }
   ],
   "source": [
    "not_reducible = []\n",
    "not_reducible = main(minterms, not_reducible)\n",
    "print(not_reducible)"
   ]
  },
  {
   "cell_type": "markdown",
   "metadata": {
    "collapsed": true
   },
   "source": [
    "<h2>SECONDA FASE: tabella degli implicanti primi</h2>"
   ]
  },
  {
   "cell_type": "markdown",
   "metadata": {
    "collapsed": true
   },
   "source": [
    "Una volta terminata la ricerca degli implicanti primi, questi vengono riportati in una tabella apposita, scrivendo sulle righe gli implicanti e sulle colonne i mintermini."
   ]
  },
  {
   "cell_type": "code",
   "execution_count": 27,
   "metadata": {},
   "outputs": [
    {
     "name": "stdout",
     "output_type": "stream",
     "text": [
      "[0, 1, 0, 0]\n",
      "[1, 1, 0, 0]\n",
      "---------\n",
      "[1, 0, 0, 0]\n",
      "[1, 0, 0, 1]\n",
      "[1, 0, 1, 0]\n",
      "[1, 0, 1, 1]\n",
      "---------\n",
      "[1, 0, 0, 0]\n",
      "[1, 0, 1, 0]\n",
      "[1, 1, 0, 0]\n",
      "[1, 1, 1, 0]\n",
      "---------\n",
      "[1, 0, 1, 0]\n",
      "[1, 0, 1, 1]\n",
      "[1, 1, 1, 0]\n",
      "[1, 1, 1, 1]\n",
      "---------\n",
      "[[4, 12], [8, 9, 10, 11], [8, 10, 12, 14], [10, 11, 14, 15]]\n"
     ]
    }
   ],
   "source": [
    "# Ricavo i mintermini\n",
    "columns = list(values) # 4,8,9,10,11,12,14,15 nel nostro caso\n",
    "final = []\n",
    "for i in range(len(not_reducible)):\n",
    "    \n",
    "    diff_count = not_reducible[i].count('-')\n",
    "    lista = []\n",
    "    for j in range(len(minterms)):\n",
    "        y = check_diff(not_reducible[i], minterms[j], diff_count)\n",
    "        if (y != -1):\n",
    "            print(minterms[j])\n",
    "            binary = \"\"\n",
    "            for bit in minterms[j]:\n",
    "                binary += str(bit)\n",
    "            lista.append(int(binary, 2))\n",
    "    final.append(lista)\n",
    "            \n",
    "    print(\"---------\")\n",
    "print(final)"
   ]
  },
  {
   "cell_type": "code",
   "execution_count": 42,
   "metadata": {},
   "outputs": [
    {
     "name": "stdout",
     "output_type": "stream",
     "text": [
      "[4, 8, 9, 10, 11, 12, 14, 15]\n",
      "[1, 0, 0, 0, 0, 1, 0, 0]\n",
      "[0, 1, 1, 1, 1, 0, 0, 0]\n",
      "[0, 1, 0, 1, 0, 1, 1, 0]\n",
      "[0, 0, 0, 1, 1, 0, 1, 1]\n"
     ]
    }
   ],
   "source": [
    "# Tabella\n",
    "table = [[0 for _ in range(len(minterms))] for _ in range(len(not_reducible)+1)]\n",
    "for i in range(len(table[0])):\n",
    "    table[0][i] = values[i][0]\n",
    "table[0].sort()\n",
    "for i in range(len(final)):\n",
    "    val = final[i]\n",
    "    for j in range(len(val)):\n",
    "        if (val[j] in table[0]):\n",
    "            table[i+1][table[0].index(val[j])] = 1\n",
    "            \n",
    "print_table(table)"
   ]
  },
  {
   "cell_type": "markdown",
   "metadata": {},
   "source": [
    "Per poter procedere alla scelta delle coperture si applicano i seguenti criteri:\n",
    "- Dominanza di riga: La riga i domina la riga j se l'implicante Pi copre tutti i mintermini che copre l'implicante Pj più almeno uno.\n",
    "\n",
    "- Dominanza di colonna: La colonna i domina la colonna j se il mintermine mj è coperto dagli stessi implicanti da cui è coperto mi più almeno uno.\n",
    "\n",
    "- Scelta dell'implicante essenziale: Un implicante è detto essenziale se una marcatura presente in una colonna è coperta in una sola riga. Nel qual caso si aggiunge l'implicante all'insieme delle coperture e si elimina la riga e tutte le colonne in cui è presente una marcatura dell'implicante. Nell'esempio, il primo implicante è essenziale poiché è l'unico a coprire il mintermine 4. Lo stesso vale per il secondo implicante che copre il mintermine 9 e per il quarto implicante che copre il mintermine 15."
   ]
  },
  {
   "cell_type": "code",
   "execution_count": 60,
   "metadata": {},
   "outputs": [
    {
     "name": "stdout",
     "output_type": "stream",
     "text": [
      "0\n",
      "2\n",
      "7\n",
      "[1, 2, 4]\n"
     ]
    }
   ],
   "source": [
    "rows = []\n",
    "row = 0\n",
    "for i in range(len(table[0])):\n",
    "    count = 0\n",
    "    for j in range(len(table)):\n",
    "        if (table[j][i] == 1):\n",
    "            count += 1\n",
    "            row = j\n",
    "    if (count == 1):\n",
    "        print(i) # colonne con un solo 1\n",
    "        rows.append(row)\n",
    "print(rows)"
   ]
  },
  {
   "cell_type": "code",
   "execution_count": 63,
   "metadata": {},
   "outputs": [
    {
     "name": "stdout",
     "output_type": "stream",
     "text": [
      "['-', 1, 0, 0]\n",
      "[1, 0, '-', '-']\n",
      "[1, '-', 1, '-']\n"
     ]
    }
   ],
   "source": [
    "for val in rows:\n",
    "    print(not_reducible[val-1])"
   ]
  }
 ],
 "metadata": {
  "kernelspec": {
   "display_name": "Python [default]",
   "language": "python",
   "name": "python3"
  },
  "language_info": {
   "codemirror_mode": {
    "name": "ipython",
    "version": 3
   },
   "file_extension": ".py",
   "mimetype": "text/x-python",
   "name": "python",
   "nbconvert_exporter": "python",
   "pygments_lexer": "ipython3",
   "version": "3.5.3"
  }
 },
 "nbformat": 4,
 "nbformat_minor": 2
}
